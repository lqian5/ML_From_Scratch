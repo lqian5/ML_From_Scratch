{
 "cells": [
  {
   "cell_type": "markdown",
   "metadata": {},
   "source": [
    "# kNN implementation\n",
    "\n",
    "#### BigO inference: O(nm) for one test data, where n is number of training observation and m is number of features\n",
    "\n",
    "- Below implementation use quickselect to find nearest neighbors (shortest distances). Average complexity is O(n), worst case is O(n^2)\n",
    "- We could use heap, the time complexity is O(nlogk)"
   ]
  },
  {
   "cell_type": "code",
   "execution_count": 1,
   "metadata": {},
   "outputs": [],
   "source": [
    "import numpy as np\n",
    "from scipy.spatial.distance import cdist\n",
    "from heapq import heapify, heappop\n",
    "from collections import Counter"
   ]
  },
  {
   "cell_type": "code",
   "execution_count": 2,
   "metadata": {},
   "outputs": [
    {
     "name": "stdout",
     "output_type": "stream",
     "text": [
      "3000\n"
     ]
    }
   ],
   "source": [
    "import sys\n",
    "print(sys.getrecursionlimit())"
   ]
  },
  {
   "cell_type": "code",
   "execution_count": 3,
   "metadata": {},
   "outputs": [],
   "source": [
    "class kNearestNeighbor():\n",
    "    def __init__(self, k, tp):\n",
    "        self.k = k\n",
    "        self.type = tp\n",
    "        \n",
    "    def fit(self, X_train, y_train):\n",
    "        self.X_train = X_train # n*m\n",
    "        self.y_train = y_train\n",
    "        \n",
    "        \n",
    "    def predict(self, X_test):\n",
    "        num_test = len(X_test)\n",
    "        y_test = []\n",
    "        for i in range(num_test):\n",
    "            x = X_test[i]\n",
    "            neighbors = self.find_nearest(x)\n",
    "            preds = [self.y_train[idx] for idx in neighbors]\n",
    "            \n",
    "            if self.type == 'classification':\n",
    "                counter = Counter(preds)\n",
    "                pred = counter.most_common(1)[0][0]\n",
    "            if self.type == 'regression':\n",
    "                pred = preds.mean()\n",
    "            \n",
    "            y_test.append(pred)\n",
    "            \n",
    "        return y_test\n",
    "        \n",
    "        \n",
    "    def find_nearest(self, x):\n",
    "        dists = np.sqrt(np.sum((self.X_train - x)**2, axis=1)) # n dimension\n",
    "        n = len(dists)\n",
    "        nums = list(range(n))\n",
    "        k = self.k -1  # new k is index\n",
    "        return self.quick_select(nums, dists, 0, len(nums)-1, k)\n",
    "        \n",
    "    def quick_select(self, nums, dists, start, end, k): # use quickselect\n",
    "        left, right = start, end\n",
    "        pivot = dists[nums[(left + right) // 2]]\n",
    "        \n",
    "        while left <= right:\n",
    "            while left <= right and dists[nums[left]] < pivot:\n",
    "                left += 1\n",
    "            while left <= right and dists[nums[right]] > pivot:\n",
    "                right -= 1\n",
    "                \n",
    "            if left <= right:\n",
    "                nums[left], nums[right] = nums[right], nums[left]\n",
    "                left += 1\n",
    "                right -= 1\n",
    "                \n",
    "        if k <= right:\n",
    "            return self.quick_select(nums, dists, start, right, k)\n",
    "        \n",
    "        if k >= left:\n",
    "            return self.quick_select(nums, dists, left, end, k)\n",
    "        \n",
    "        return nums[:(k+1)]\n",
    "        \n",
    "        \n",
    "#         # if use heap\n",
    "#         dists = np.sqrt(np.sum((self.X_train - x)**2, axis=1))\n",
    "#         heapify(dists)\n",
    "#         preds = []\n",
    "#         for _ in range(self.k):\n",
    "#             _, idx = heappop(dists)\n",
    "#             preds.append( y_train[idx] )"
   ]
  },
  {
   "cell_type": "markdown",
   "metadata": {},
   "source": [
    "# Test on Sklearn Iris dats"
   ]
  },
  {
   "cell_type": "code",
   "execution_count": 4,
   "metadata": {},
   "outputs": [],
   "source": [
    "from sklearn.datasets import load_iris\n",
    "from sklearn.model_selection import train_test_split\n",
    "\n",
    "X, y = load_iris(return_X_y=True)\n",
    "X_train, X_test, y_train, y_test = train_test_split(X, y, test_size=0.25, random_state=42)"
   ]
  },
  {
   "cell_type": "code",
   "execution_count": 5,
   "metadata": {},
   "outputs": [],
   "source": [
    "kNN = kNearestNeighbor(5, 'classification')\n",
    "kNN.fit(X_train, y_train)\n",
    "predictions = kNN.predict(X_test)"
   ]
  },
  {
   "cell_type": "code",
   "execution_count": 6,
   "metadata": {},
   "outputs": [
    {
     "name": "stdout",
     "output_type": "stream",
     "text": [
      "accuracy on the test set is 1.0\n"
     ]
    }
   ],
   "source": [
    "acc = sum(y_test == predictions) / len(y_test)\n",
    "print(f'accuracy on the test set is {acc}')"
   ]
  }
 ],
 "metadata": {
  "kernelspec": {
   "display_name": "Python 3",
   "language": "python",
   "name": "python3"
  },
  "language_info": {
   "codemirror_mode": {
    "name": "ipython",
    "version": 3
   },
   "file_extension": ".py",
   "mimetype": "text/x-python",
   "name": "python",
   "nbconvert_exporter": "python",
   "pygments_lexer": "ipython3",
   "version": "3.6.10"
  }
 },
 "nbformat": 4,
 "nbformat_minor": 4
}
