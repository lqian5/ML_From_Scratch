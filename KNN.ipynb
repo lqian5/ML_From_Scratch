{
 "cells": [
  {
   "cell_type": "markdown",
   "metadata": {},
   "source": [
    "# kNN implementation\n",
    "\n",
    "BigO inference: O(nm + klogn) for one test data, where n is number of training observation and m is number of features"
   ]
  },
  {
   "cell_type": "code",
   "execution_count": 22,
   "metadata": {},
   "outputs": [],
   "source": [
    "import numpy as np\n",
    "from scipy.spatial.distance import cdist\n",
    "from heapq import heapify, heappop\n",
    "from collections import Counter"
   ]
  },
  {
   "cell_type": "code",
   "execution_count": 33,
   "metadata": {},
   "outputs": [],
   "source": [
    "class kNearestNeighbor():\n",
    "    def __init__(self, k, tp):\n",
    "        self.k = k\n",
    "        self.type = tp\n",
    "        \n",
    "    def predict(self, X_test, X_train, y_train):\n",
    "        num_test = len(X_test)\n",
    "        dist_matrix = cdist(X_test, X_train, 'euclidean') # (number of train) * (number of test)\n",
    "        y_test = []\n",
    "        for i in range(num_test):\n",
    "            # use heap O(klogn)\n",
    "            dists = [(x, idx) for idx, x in enumerate(dist_matrix[i])]\n",
    "            heapify(dists)\n",
    "            preds = []\n",
    "            for _ in range(self.k):\n",
    "                _, idx = heappop(dists)\n",
    "                preds.append( y_train[idx] )\n",
    "            \n",
    "            if self.type == 'classification':\n",
    "                counter = Counter(preds)\n",
    "                pred = counter.most_common(1)[0][0]\n",
    "            if self.type == 'regression':\n",
    "                pred = preds.mean()\n",
    "                \n",
    "            y_test.append(pred)\n",
    "            \n",
    "        return y_test"
   ]
  },
  {
   "cell_type": "markdown",
   "metadata": {},
   "source": [
    "# Test on Sklearn Iris dats"
   ]
  },
  {
   "cell_type": "code",
   "execution_count": 6,
   "metadata": {},
   "outputs": [],
   "source": [
    "from sklearn.datasets import load_iris\n",
    "from sklearn.model_selection import train_test_split\n",
    "\n",
    "X, y = load_iris(return_X_y=True)\n",
    "X_train, X_test, y_train, y_test = train_test_split(X, y, test_size=0.25, random_state=42)"
   ]
  },
  {
   "cell_type": "code",
   "execution_count": 34,
   "metadata": {},
   "outputs": [],
   "source": [
    "kNN = kNearestNeighbor(5, 'classification')\n",
    "predictions = kNN.predict(X_test, X_train, y_train)"
   ]
  },
  {
   "cell_type": "code",
   "execution_count": 37,
   "metadata": {},
   "outputs": [
    {
     "name": "stdout",
     "output_type": "stream",
     "text": [
      "accuracy on the test set is 1.0\n"
     ]
    }
   ],
   "source": [
    "acc = sum(y_test == predictions) / len(y_test)\n",
    "print(f'accuracy on the test set is {acc}')"
   ]
  }
 ],
 "metadata": {
  "kernelspec": {
   "display_name": "Python 3",
   "language": "python",
   "name": "python3"
  },
  "language_info": {
   "codemirror_mode": {
    "name": "ipython",
    "version": 3
   },
   "file_extension": ".py",
   "mimetype": "text/x-python",
   "name": "python",
   "nbconvert_exporter": "python",
   "pygments_lexer": "ipython3",
   "version": "3.6.10"
  }
 },
 "nbformat": 4,
 "nbformat_minor": 4
}
