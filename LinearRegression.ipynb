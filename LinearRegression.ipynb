{
 "cells": [
  {
   "cell_type": "markdown",
   "metadata": {},
   "source": [
    "# Linear/Ridge Regression Implementation\n",
    "Linear regression models the relationship between a dependent variable y and the independent variables X. \n",
    "\n",
    "This implementation has a unique solution, where coefficents/weights are OLS estimates.\n",
    "\n",
    "In addition, ridge regularizer is added to handles non-invertible matrix X (columns that are linearly independent). When using ridge regression, we trade estimation bias off with reduced variance."
   ]
  },
  {
   "cell_type": "code",
   "execution_count": 2,
   "metadata": {},
   "outputs": [],
   "source": [
    "import numpy as np"
   ]
  },
  {
   "cell_type": "code",
   "execution_count": 3,
   "metadata": {},
   "outputs": [],
   "source": [
    "class RidgeRegression():\n",
    "    \n",
    "    def fit(self, X, y, lambda_):\n",
    "        \"\"\"\n",
    "        Computes weights by fitting OLS.\n",
    "        \n",
    "        Inputs:\n",
    "        X - Features\n",
    "        y - Target\n",
    "        lambda_ - regularization term for ridge regularization that handles non-invertible matrix X\n",
    "        \"\"\"\n",
    "        # set parameters\n",
    "        p = X.shape[1]  # p is dimension of X\n",
    "        X -= X.mean(0)  # centered inputs\n",
    "        \n",
    "        W = np.dot(\n",
    "            np.linalg.inv(\n",
    "                np.dot(X.T, X) + lambda_ * np.identity(p)\n",
    "            ),\n",
    "            np.dot(X.T, y)\n",
    "        )\n",
    "        \n",
    "        self.W = np.append(np.mean(y), W)\n",
    "\n",
    "\n",
    "    def predict(self, test_X):\n",
    "        test_X -= test_X.mean(0)\n",
    "        test_X = np.insert(test_X, 0, 1, axis=1)  # insert constant ones for intercept\n",
    "        pred_y = np.dot(test_X, self.W)\n",
    "        print(f'Predictions: {pred_y}')\n"
   ]
  },
  {
   "cell_type": "markdown",
   "metadata": {},
   "source": [
    "## Toy Data"
   ]
  },
  {
   "cell_type": "code",
   "execution_count": 3,
   "metadata": {},
   "outputs": [],
   "source": [
    "X = np.array([[1, 2], [4, 5], [2.5, 2], [5,6]])\n",
    "y = np.array([2, 3, 2.5, 3.3])"
   ]
  },
  {
   "cell_type": "code",
   "execution_count": 4,
   "metadata": {},
   "outputs": [],
   "source": [
    "model = RidgeRegression()\n",
    "model.fit(X, y, 0.2)"
   ]
  },
  {
   "cell_type": "code",
   "execution_count": 5,
   "metadata": {},
   "outputs": [
    {
     "data": {
      "text/plain": [
       "array([2.7       , 0.28539562, 0.03168875])"
      ]
     },
     "execution_count": 5,
     "metadata": {},
     "output_type": "execute_result"
    }
   ],
   "source": [
    "model.W"
   ]
  },
  {
   "cell_type": "code",
   "execution_count": 6,
   "metadata": {},
   "outputs": [
    {
     "name": "stdout",
     "output_type": "stream",
     "text": [
      "Predictions: [2.39876001 3.00123999]\n"
     ]
    }
   ],
   "source": [
    "test_X = np.array([[1, 2.0], [3, 3]])\n",
    "model.predict(test_X)"
   ]
  }
 ],
 "metadata": {
  "kernelspec": {
   "display_name": "Python 3",
   "language": "python",
   "name": "python3"
  },
  "language_info": {
   "codemirror_mode": {
    "name": "ipython",
    "version": 3
   },
   "file_extension": ".py",
   "mimetype": "text/x-python",
   "name": "python",
   "nbconvert_exporter": "python",
   "pygments_lexer": "ipython3",
   "version": "3.6.10"
  }
 },
 "nbformat": 4,
 "nbformat_minor": 4
}
