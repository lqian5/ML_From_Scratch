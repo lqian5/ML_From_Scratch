{
 "cells": [
  {
   "cell_type": "markdown",
   "metadata": {},
   "source": [
    "# Kmeans:\n",
    "Supervised learning algorithm parititions data into k clusters. The cost is the squared distance (WSS-Within Sum of Squares) between all points to their closest cluster center. \n",
    "\n",
    "## Initialization:\n",
    "    1. Forgy Initialization: easy to implement; could lead to very different clusters\n",
    "    2. Random Partition Method: more likely to stuck in local optimum\n",
    "    3. kmeans++: recommended\n",
    "    \n",
    "## Processing:\n",
    "    1. Randomly choose points as centroids\n",
    "    2. Repeat until convergence:\n",
    "        - For every point, assign it to the nearest cluster whose mean has the least squared euclidean distance from the point.\n",
    "        - Calculate new means to be the centroids of the observation in the new clusters.\n",
    "        \n",
    "Weakness:\n",
    "    1. Need to specify k. No global theoritical to find optimal k.\n",
    "    2. Sensitive to initial centroids selection. Could have different clustering results and stuck in local optimum using Forgy initialization. Could repeat several times to pick the one with lowest cost or use k++.\n",
    "    3. Can only handle numerical data by one hot encoding.\n",
    "    4. Sensitive to outliers and noise. Should probably eliminate outliers beforehand and normalize all features (StandarScaler).\n",
    "    5. Cannot handle non-globular clusters or clusters of different sizes and densities\n",
    "    \n",
    "    \n",
    "## Stop condition:\n",
    "    - (stability) centroids of new cluster do not change\n",
    "    - (convergence) points stay in the same cluster\n",
    "    - (cap) Maximum number of iterations has been reached as complexity of training is high\n",
    "    \n",
    "## Complexity\n",
    "k (number of cllusters); I (number of iterations); N(sample size); M(dimension of each obs)\n",
    "    - Training BigO: K*I*N*M\n",
    "    - Prediction BigO: K*N*M"
   ]
  },
  {
   "cell_type": "code",
   "execution_count": 1,
   "metadata": {},
   "outputs": [],
   "source": [
    "import numpy as np"
   ]
  },
  {
   "cell_type": "code",
   "execution_count": 2,
   "metadata": {},
   "outputs": [],
   "source": [
    "def forgy_initialization(X, k):\n",
    "    '''choosing any k points randomly (probably to be near the modes). \n",
    "    Could run K-means multiple times to find the global optimum'''\n",
    "    return X[np.random.choice(range(X.shape[0]), replace=False, size=k),:]\n",
    "\n",
    "def random_partition(X, k):\n",
    "    '''randomly partitioning every points, and take average per partition to be the initial points.\n",
    "    (close to global mean). Kmeans is more likely to get stuck in local optimum'''\n",
    "    indices = np.random.choice(range(0,k), replace=True, size=X.shape[0])\n",
    "    mean = []\n",
    "    for partition_id in range(k):\n",
    "        mean.append(X[indices==partition_id].mean(axis=0))\n",
    "\n",
    "    return np.concatenate([val[None, :] for val in mean], axis =0)\n",
    "\n",
    "\n",
    "def dist(data, centers):\n",
    "    # np array broadcasting calculate distance for each point to each center.\n",
    "    # data n*m, centers ki*m, data[:,None,:] n*1*m, subtraction results n*ki*m, sum long axis=2 results n*ki\n",
    "    distance = np.sum((np.array(centers) - data[:,None, :])**2, axis=2)\n",
    "    return distance\n",
    "\n",
    "def kmeans_plus_plus(X, k, pdf_method=True):\n",
    "    '''Initialize one point at random. Loop for k-1 interations:\n",
    "    Calculate for each point the distance of the point from its nearest center.\n",
    "    Sample a point with probability proportional to the square of the distance.'''\n",
    "    centers = []\n",
    "    X = np.array(X)\n",
    "    n = X.shape[0]\n",
    "    \n",
    "    intial_index = np.random.choice(range(n))\n",
    "    centers.append(X[initial_index])\n",
    "    \n",
    "    for i in range(k-1):\n",
    "        distance = dist(X, centers)\n",
    "        if i==0:\n",
    "            pdf = distance /np.sum(distance)\n",
    "            nxt_index = np.random.choice(range(n), size=1, replace = False, p = pdf.flatten())[0]\n",
    "            centroid_new = X[nxt_index]\n",
    "        else:\n",
    "            dist_min = np.min(distance, axis=1)\n",
    "            if pdf_method:\n",
    "                pdf = dist_min / np.sum(dist_min)\n",
    "                nxt_index = np.random.choice(range(n), size=1, replace = False, p = pdf)[0]\n",
    "                centroid_new = X[nxt_index]\n",
    "            else:\n",
    "                nxt_index = np.argmax(dist_min, axis = 0)\n",
    "                centroid_new = X[nxt_index]\n",
    "                \n",
    "        centers.append(centroid_new)\n",
    "        \n",
    "    return np.array(centers)"
   ]
  },
  {
   "cell_type": "code",
   "execution_count": 3,
   "metadata": {},
   "outputs": [],
   "source": [
    "class Kmeans():\n",
    "    def __init__(self, k, max_iter=300):\n",
    "        self.k = k\n",
    "        self.max_iter = max_iter\n",
    "        \n",
    "    def _forgy_initialization(self, X):\n",
    "        return X[np.random.choice(range(X.shape[0]), replace=False, size=self.k),:]\n",
    "    \n",
    "    def _create_clusters(self, X, centroids):\n",
    "        clusters = [[] for _ in range(self.k)] \n",
    "        labels = []\n",
    "        for i, sample in enumerate(X):\n",
    "            # centroid dim: (k)\n",
    "            euclidean_dist_with_centroids = np.sqrt(np.sum(((centroids - sample)**2), axis=1))\n",
    "            closest_centroid = np.argmin(euclidean_dist_with_centroids)\n",
    "            labels.append(closest_centroid)\n",
    "            clusters[closest_centroid].append(sample)\n",
    "        # cluster is a list of unqueal length\n",
    "        for i in range(self.k):\n",
    "            centroids[i] = np.mean( np.array(clusters[i]), axis=0)\n",
    "        return centroids, labels\n",
    "    \n",
    "    def fit(self, X):\n",
    "        centroids = self._forgy_initialization(X)\n",
    "        for _ in range(self.max_iter):\n",
    "            prev_centroids = centroids\n",
    "            centroids, labels = self._create_clusters(X, centroids)\n",
    "            diff =  centroids - prev_centroids\n",
    "            if not diff.any():\n",
    "                self.centroids = centroids\n",
    "                self.labels = labels\n",
    "                print(\"convergence achieved\")\n",
    "                break"
   ]
  },
  {
   "cell_type": "markdown",
   "metadata": {},
   "source": [
    "# Test on Sklearn Iris dats"
   ]
  },
  {
   "cell_type": "code",
   "execution_count": 4,
   "metadata": {},
   "outputs": [],
   "source": [
    "from sklearn.datasets import load_iris\n",
    "import seaborn as sns\n",
    "X, y = load_iris(return_X_y=True)"
   ]
  },
  {
   "cell_type": "code",
   "execution_count": 5,
   "metadata": {},
   "outputs": [
    {
     "data": {
      "text/plain": [
       "<matplotlib.axes._subplots.AxesSubplot at 0x7f92933299e8>"
      ]
     },
     "execution_count": 5,
     "metadata": {},
     "output_type": "execute_result"
    },
    {
     "data": {
      "image/png": "[encoded data removed]",
      "text/plain": [
       "<Figure size 432x288 with 1 Axes>"
      ]
     },
     "metadata": {
      "needs_background": "light"
     },
     "output_type": "display_data"
    }
   ],
   "source": [
    "sns.boxplot(data=X)"
   ]
  },
  {
   "cell_type": "markdown",
   "metadata": {},
   "source": [
    "The plot shows that all features are in different scale, so we should normalize the features before applying clustering"
   ]
  },
  {
   "cell_type": "code",
   "execution_count": 6,
   "metadata": {},
   "outputs": [
    {
     "data": {
      "text/plain": [
       "<matplotlib.axes._subplots.AxesSubplot at 0x7f92934464e0>"
      ]
     },
     "execution_count": 6,
     "metadata": {},
     "output_type": "execute_result"
    },
    {
     "data": {
      "image/png": "[encoded data removed]",
      "text/plain": [
       "<Figure size 432x288 with 1 Axes>"
      ]
     },
     "metadata": {
      "needs_background": "light"
     },
     "output_type": "display_data"
    }
   ],
   "source": [
    "from sklearn.preprocessing import StandardScaler\n",
    "scaler = StandardScaler()\n",
    "X = scaler.fit_transform(X)\n",
    "sns.boxplot(data=X)"
   ]
  },
  {
   "cell_type": "markdown",
   "metadata": {},
   "source": [
    "## Elbow's method plot"
   ]
  },
  {
   "cell_type": "code",
   "execution_count": 7,
   "metadata": {},
   "outputs": [
    {
     "name": "stdout",
     "output_type": "stream",
     "text": [
      "convergence achieved\n",
      "convergence achieved\n",
      "convergence achieved\n",
      "convergence achieved\n",
      "convergence achieved\n"
     ]
    }
   ],
   "source": [
    "from scipy.spatial.distance import cdist\n",
    "\n",
    "K = range(2, 7)\n",
    "avg_distance_centroid = []\n",
    "for  k in K:\n",
    "    k_means = Kmeans(k)\n",
    "    k_means.fit(X)\n",
    "    #avg_dis_centroid = np.min( np.sum((X[:,None,:] - k_means.centroids)**2, axis=2), axis=1).mean()\n",
    "    avg_dis_centroid = np.min(cdist(X, k_means.centroids, 'euclidean'),axis=1).mean()\n",
    "    avg_distance_centroid.append(avg_dis_centroid)"
   ]
  },
  {
   "cell_type": "code",
   "execution_count": 9,
   "metadata": {},
   "outputs": [
    {
     "data": {
      "image/png": "[encoded data removed]",
      "text/plain": [
       "<Figure size 432x288 with 1 Axes>"
      ]
     },
     "metadata": {
      "needs_background": "light"
     },
     "output_type": "display_data"
    }
   ],
   "source": [
    "import matplotlib.pyplot as plt\n",
    "\n",
    "plt.plot(K, avg_distance_centroid) \n",
    "plt.xlabel('Values of K') \n",
    "plt.ylabel('Average distance to centroid') \n",
    "plt.title('The Elbow Method') \n",
    "plt.show() "
   ]
  },
  {
   "cell_type": "markdown",
   "metadata": {},
   "source": [
    "# Mini batch k-means\n",
    "Scale K-means to larger datasets.It leverages mini-batches of data, taken at random to update the clusters’ mean with a decreasing learning rate. For each data bach, the points are all first assigned to a cluster and means are then re-calculated. The clusters’ centers are recalculated using gradient descent. The algorithm provides a faster convergence than the typical KMeans, but with a slightly different cluster output\n",
    "https://www.eecs.tufts.edu/~dsculley/papers/fastkmeans.pdf\n",
    "\n",
    "# Clustering methods Category\n",
    "- centroid/medoids (e.g., KMeans), hierarchical\n",
    "- density-based (e.g., MeanShift, DBSCAN)\n",
    "- distribution-based (e.g., GMM)"
   ]
  }
 ],
 "metadata": {
  "kernelspec": {
   "display_name": "Python 3",
   "language": "python",
   "name": "python3"
  },
  "language_info": {
   "codemirror_mode": {
    "name": "ipython",
    "version": 3
   },
   "file_extension": ".py",
   "mimetype": "text/x-python",
   "name": "python",
   "nbconvert_exporter": "python",
   "pygments_lexer": "ipython3",
   "version": "3.6.10"
  }
 },
 "nbformat": 4,
 "nbformat_minor": 4
}
